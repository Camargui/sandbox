{
 "cells": [
  {
   "cell_type": "code",
   "execution_count": null,
   "id": "registered-explosion",
   "metadata": {},
   "outputs": [],
   "source": [
    "pip install tink"
   ]
  },
  {
   "cell_type": "code",
   "execution_count": 384,
   "id": "compliant-ordinance",
   "metadata": {},
   "outputs": [],
   "source": [
    "import io\n",
    "import base64\n",
    "import json\n",
    "\n",
    "import tink\n",
    "from tink import aead\n",
    "from tink import cleartext_keyset_handle\n",
    "\n",
    "aead.register()\n",
    "\n",
    "def create_new_kek():\n",
    "    \n",
    "    kh_key = tink.new_keyset_handle(aead.aead_key_templates.AES256_GCM)\n",
    "    buffer = io.BytesIO()\n",
    "    writer = tink.BinaryKeysetWriter(buffer)\n",
    "    cleartext_keyset_handle.write(writer, kh_key)\n",
    "    buffer.seek(0)\n",
    "    return base64.b64encode(buffer.read())\n",
    "\n",
    "#def create_new_dek():\n",
    "\n",
    "#def get_dek():\n",
    "\n",
    "def ins_table_kek(i_table, i_kek, i_table_kek):\n",
    "    import google.cloud.bigquery.dbapi as bq\n",
    "    from datetime import datetime\n",
    "\n",
    "    dttm = datetime.now()\n",
    "    rec_id = dttm.strftime(\"%Y%m%d%H%M%S\")\n",
    "    kek_str = str(i_kek, 'utf-8')\n",
    "\n",
    "    ins_query = 'insert into `' + i_table_kek + '` (table_id, table_nm, kek) values '\n",
    "    ins_query = ins_query + '(' + rec_id + ', \\'' + i_table + '\\', FROM_BASE64(\\'' + kek_str + '\\'))'\n",
    "    \n",
    "    con = bq.connect()\n",
    "    cursor = con.cursor()\n",
    "    cursor.execute(ins_query)\n",
    "    con.commit()\n",
    "    con.close()\n",
    "\n",
    "    \n",
    "def upd_table_kek(i_table, i_kek, i_table_kek):\n",
    "    import google.cloud.bigquery.dbapi as bq\n",
    "    from datetime import datetime\n",
    "\n",
    "    dttm = datetime.now()\n",
    "    rec_id = dttm.strftime(\"%Y%m%d%H%M%S\")\n",
    "    kek_str = str(i_kek, 'utf-8')\n",
    "\n",
    "    upd_query = 'update `' + i_table_kek + '`'\n",
    "    upd_query = upd_query + ' set kek = FROM_BASE64(\\'' + kek_str + '\\')'\n",
    "    upd_query = upd_query + ' where table_nm = \\'' + i_table + '\\''\n",
    "    \n",
    "    con = bq.connect()\n",
    "    cursor = con.cursor()\n",
    "    cursor.execute(upd_query)\n",
    "    con.commit()\n",
    "    con.close()\n",
    "\n",
    "\n",
    "def ins_table_dek(i_table, i_table_dek, i_table_kek):\n",
    "    from google.cloud import bigquery\n",
    "    import pandas\n",
    "    \n",
    "    kek_km_df = get_table_kek(i_table, i_table_kek)\n",
    "    clear_dek = create_new_kek()\n",
    "    clear_dek_str = str(clear_dek, 'utf-8')\n",
    "    wrapped_dek = encrypt_text(kek_km_df, clear_dek_str)\n",
    "    \n",
    "    client = bigquery.Client(location=\"US\")\n",
    "    \n",
    "    sel_query = 'select table_id from `' + i_table_kek + '`'\n",
    "    sel_query = sel_query + ' where table_nm = \\'' + i_table + '\\''\n",
    "    query_job = client.query(\n",
    "    sel_query)  # API request - starts the query\n",
    "    df = query_job.to_dataframe()\n",
    "    table_id_df = df['table_id']\n",
    "    table_id = table_id_df.values[0]\n",
    "    \n",
    "    wrapped_dek_str = str(wrapped_dek, 'utf-8')\n",
    "    \n",
    "    ins_query = 'insert into `' + i_table_dek + '` (table_id, table_nm, wrapped_dek) values '\n",
    "    ins_query = ins_query + '(' + str(table_id) + ', \\'' + i_table + '\\', FROM_BASE64(\\'' + wrapped_dek_str + '\\'))'\n",
    "    \n",
    "    con = bq.connect()\n",
    "    cursor = con.cursor()\n",
    "    cursor.execute(ins_query)\n",
    "    con.commit()\n",
    "    con.close()\n",
    "    \n",
    "#def upd_table_dek(i_table, i_kek, i_table_dek):\n",
    "\n",
    "def get_table_kek(i_table, i_table_kek):\n",
    "    from google.cloud import bigquery\n",
    "    import pandas\n",
    "    client = bigquery.Client(location=\"US\")\n",
    "    \n",
    "    sel_query = 'select kek, table_nm from `' + i_table_kek + '`'\n",
    "    sel_query = sel_query + ' where table_nm = \\'' + i_table + '\\''\n",
    "    \n",
    "    query_job = client.query(\n",
    "    sel_query,\n",
    "    # Location must match that of the dataset(s) referenced in the query.\n",
    "    location=\"US\",\n",
    "    )  # API request - starts the query\n",
    "\n",
    "    df = query_job.to_dataframe()\n",
    "    return df\n",
    "\n",
    "def get_table_dek(i_table, i_table_dek, i_table_kek):\n",
    "    from google.cloud import bigquery\n",
    "    import pandas\n",
    "\n",
    "    i_table_kek= 'gcp-rrk-001.sandbox.t_crypto_kek'\n",
    "    i_table_dek= 'gcp-rrk-001.sandbox.t_crypto_dek'\n",
    "    i_table = 't_pci_data_set3'\n",
    "\n",
    "    kek_km_df = get_table_kek(i_table, i_table_kek)\n",
    "\n",
    "    client = bigquery.Client(location=\"US\")    \n",
    "    sel_query = 'select wrapped_dek, table_nm from `' + i_table_dek + '`'\n",
    "    sel_query = sel_query + ' where table_nm = \\'' + i_table + '\\''\n",
    "    query_job = client.query(sel_query)  # API request - starts the query\n",
    "\n",
    "    dek_km_df = query_job.to_dataframe()\n",
    "    dek_df = dek_km_df['wrapped_dek']\n",
    "    wrapped_dek = dek_df.values[0]\n",
    "    clear_dek = decrypt_cypher(kek_km_df, base64.b64encode(wrapped_dek))\n",
    "\n",
    "    dek_km_df.rename(columns = {'wrapped_dek':'kek'}, inplace = True)\n",
    "    dek_km_df.at[0,'kek'] = base64.b64decode(clear_dek)\n",
    "    return dek_km_df\n",
    "\n",
    "def encrypt_text(i_key_material_df, i_cleartext):\n",
    "    import base64\n",
    "    import tink\n",
    "    from tink import aead\n",
    "    from tink import cleartext_keyset_handle\n",
    "\n",
    "    aead.register()\n",
    "    kek_df = i_key_material_df['kek']\n",
    "    table_df = i_key_material_df['table_nm']\n",
    "    \n",
    "    kek = kek_df.values[0]\n",
    "    table_nm = table_df.values[0]\n",
    "    \n",
    "    plaintext = i_cleartext.encode('utf-8')\n",
    "    associated_data = table_nm.encode('utf-8')\n",
    "\n",
    "    kh_kek = cleartext_keyset_handle.read(tink.BinaryKeysetReader(kek))\n",
    "    aead_primitive = kh_kek.primitive(aead.Aead)\n",
    "    return base64.b64encode(aead_primitive.encrypt(plaintext, associated_data))\n",
    "    #return cipher_text \n",
    "    #return aead_primitive.encrypt(plaintext, associated_data)\n",
    "    \n",
    "def decrypt_cypher(i_key_material_df, i_cyphertext):\n",
    "    import base64\n",
    "    import tink\n",
    "    from tink import aead\n",
    "    from tink import cleartext_keyset_handle\n",
    "\n",
    "    aead.register()\n",
    "    kek_df = i_key_material_df['kek']\n",
    "    table_df = i_key_material_df['table_nm']\n",
    "    \n",
    "    kek = kek_df.values[0]\n",
    "    table_nm = table_df.values[0]\n",
    "    associated_data = table_nm.encode('utf-8')\n",
    "\n",
    "    kh_kek = cleartext_keyset_handle.read(tink.BinaryKeysetReader(kek))\n",
    "    aead_primitive = kh_kek.primitive(aead.Aead)\n",
    "    return aead_primitive.decrypt(base64.b64decode(i_cyphertext), associated_data)\n",
    "    #cleartext = aead_primitive.decrypt(base64.b64decode(i_cyphertext), associated_data)\n",
    "    #return str(cleartext, 'utf-8')\n",
    "    \n"
   ]
  },
  {
   "cell_type": "code",
   "execution_count": null,
   "id": "acknowledged-empty",
   "metadata": {},
   "outputs": [],
   "source": []
  },
  {
   "cell_type": "code",
   "execution_count": 364,
   "id": "prerequisite-poverty",
   "metadata": {},
   "outputs": [],
   "source": [
    "i_table_kek= 'gcp-rrk-001.sandbox.t_crypto_kek'\n",
    "i_table = 't_pci_data_set4'\n",
    "i_kek = create_new_kek()\n",
    "ins_table_kek(i_table, i_kek, i_table_kek)"
   ]
  },
  {
   "cell_type": "code",
   "execution_count": 261,
   "id": "floating-brand",
   "metadata": {},
   "outputs": [
    {
     "name": "stdout",
     "output_type": "stream",
     "text": [
      "                                                 kek         table_nm\n",
      "0  b'\\x08\\xe2\\xbd\\xca\\xfe\\x02\\x12d\\nX\\n0type.goog...  t_pci_data_set4\n"
     ]
    }
   ],
   "source": [
    "i_table_kek= 'gcp-rrk-001.sandbox.t_crypto_kek'\n",
    "i_table = 't_pci_data_set4'\n",
    "kek = get_table_kek(i_table, i_table_kek)\n",
    "print(kek)"
   ]
  },
  {
   "cell_type": "code",
   "execution_count": 316,
   "id": "dental-advice",
   "metadata": {},
   "outputs": [
    {
     "name": "stdout",
     "output_type": "stream",
     "text": [
      "                                                 kek         table_nm\n",
      "0  b'\\x08\\x93\\xc6\\x80\\xe3\\x07\\x12d\\nX\\n0type.goog...  t_pci_data_set4\n"
     ]
    }
   ],
   "source": [
    "i_table_kek= 'gcp-rrk-001.sandbox.t_crypto_kek'\n",
    "i_table = 't_pci_data_set4'\n",
    "i_kek = create_new_kek()\n",
    "upd_table_kek(i_table, i_kek, i_table_kek)\n",
    "kek = get_table_kek(i_table, i_table_kek)\n",
    "print(kek)"
   ]
  },
  {
   "cell_type": "code",
   "execution_count": 385,
   "id": "cooperative-smell",
   "metadata": {},
   "outputs": [
    {
     "name": "stdout",
     "output_type": "stream",
     "text": [
      "                                                 kek         table_nm\n",
      "0  b'\\x08\\xde\\x96\\x84\\xd1\\x02\\x12d\\nX\\n0type.goog...  t_pci_data_set3\n"
     ]
    }
   ],
   "source": [
    "i_table_kek= 'gcp-rrk-001.sandbox.t_crypto_kek'\n",
    "i_table_dek= 'gcp-rrk-001.sandbox.t_crypto_dek'\n",
    "i_table = 't_pci_data_set3'\n",
    "dek = get_table_dek(i_table, i_table_dek, i_table_kek)\n",
    "print(dek)"
   ]
  },
  {
   "cell_type": "code",
   "execution_count": 349,
   "id": "mobile-tyler",
   "metadata": {},
   "outputs": [
    {
     "name": "stdout",
     "output_type": "stream",
     "text": [
      "cypher: 555-33-5555\n",
      "Loaded 1 rows and 3 columns to gcp-rrk-001.sandbox.t_sample_customer\n"
     ]
    }
   ],
   "source": [
    "#encrypt values and load to bigquery\n",
    "\n",
    "import pandas\n",
    "\n",
    "i_table_kek= 'gcp-rrk-001.sandbox.t_crypto_kek'\n",
    "i_table_nm = 't_pci_data_set2'\n",
    "tgt_table = 'gcp-rrk-001.sandbox.t_sample_customer'\n",
    "\n",
    "km_df = get_table_kek(i_table_nm, i_table_kek)\n",
    "\n",
    "name = 'rohan ramnarine k'\n",
    "ssn = '555-33-5555'\n",
    "\n",
    "wrapped_ssn = encrypt_text(km_df, ssn)\n",
    "print('cypher:', ssn)\n",
    "\n",
    "df = pandas.DataFrame([{'name':name, 'ssn':ssn, 'wrapped_ssn':str(wrapped_ssn, 'utf-8')}])\n",
    "\n",
    "job_config = bigquery.LoadJobConfig(\n",
    "    write_disposition=\"WRITE_TRUNCATE\",\n",
    ")\n",
    "\n",
    "job = client.load_table_from_dataframe(\n",
    "    df, tgt_table, job_config\n",
    ")  # Make an API request.\n",
    "job.result()  # Wait for the job to complete.\n",
    "\n",
    "table = client.get_table(tgt_table)  # Make an API request.\n",
    "print(\n",
    "    \"Loaded {} rows and {} columns to {}\".format(\n",
    "        table.num_rows, len(table.schema), tgt_table\n",
    "    )\n",
    ")\n"
   ]
  },
  {
   "cell_type": "code",
   "execution_count": 354,
   "id": "suitable-cowboy",
   "metadata": {},
   "outputs": [
    {
     "name": "stdout",
     "output_type": "stream",
     "text": [
      "AT+pN3EGtyOfKnz8aYKrvV6D963FroZgaRirs6y1xu2ROHwkyyRVyOWLQcg=\n",
      "b'AT+pN3EGtyOfKnz8aYKrvV6D963FroZgaRirs6y1xu2ROHwkyyRVyOWLQcg='\n",
      "clear text: b'555-33-5555'\n"
     ]
    }
   ],
   "source": [
    "query = \"\"\"\n",
    "    SELECT *\n",
    "    FROM `gcp-rrk-001.sandbox.t_sample_customer`\n",
    "\"\"\"\n",
    "query_job = client.query(\n",
    "    query,\n",
    "    # Location must match that of the dataset(s) referenced in the query.\n",
    "    location=\"US\",\n",
    ")  # API request - starts the query\n",
    "\n",
    "df = query_job.to_dataframe()\n",
    "df\n",
    "wrapped_ssn_df = df['wrapped_ssn']\n",
    "wrapped_ssn = wrapped_ssn_df.values[0]\n",
    "print(wrapped_ssn)\n",
    "print(wrapped_ssn.encode('utf-8'))\n",
    "\n",
    "\n",
    "cyphertext_t = wrapped_ssn.encode('utf-8')\n",
    "i_table_kek= 'gcp-rrk-001.sandbox.t_crypto_kek'\n",
    "i_table_nm = 't_pci_data_set2'\n",
    "km_df = get_table_kek(i_table_nm, i_table_kek)\n",
    "cleartext = decrypt_cypher(km_df, cyphertext_t)\n",
    "print('clear text:', cleartext)"
   ]
  },
  {
   "cell_type": "code",
   "execution_count": 321,
   "id": "sensitive-auditor",
   "metadata": {},
   "outputs": [
    {
     "name": "stdout",
     "output_type": "stream",
     "text": [
      "clear text: Rohan\n"
     ]
    }
   ],
   "source": [
    "cyphertext_t = b'AXxgIxMiwQyl2f7Fgm2zcWaUDPMOIKANYcfE1TelkXDT7qA25U0='\n",
    "i_table_kek= 'gcp-rrk-001.sandbox.t_crypto_kek'\n",
    "i_table_nm = 't_pci_data_set4'\n",
    "km_df = get_table_kek(i_table_nm, i_table_kek)\n",
    "cleartext = decrypt_cypher(km_df, cyphertext_t)\n",
    "print('clear text:', cleartext)"
   ]
  },
  {
   "cell_type": "code",
   "execution_count": 236,
   "id": "commercial-reporter",
   "metadata": {},
   "outputs": [
    {
     "name": "stdout",
     "output_type": "stream",
     "text": [
      "b'\\x08\\x86\\xae\\xa1\\x84\\x07\\x12T\\nH\\n0type.googleapis.com/google.crypto.tink.AesGcmKey\\x12\\x12\\x1a\\x10v\\x93\\\\2\\xab\\xb5\\xdb\\xcc\\x13\\xb7\\x84\\xc6\\x8d\\xb9\\x80Y\\x18\\x01\\x10\\x01\\x18\\x86\\xae\\xa1\\x84\\x07 \\x01'\n",
      "b'CIauoYQHElQKSAowdHlwZS5nb29nbGVhcGlzLmNvbS9nb29nbGUuY3J5cHRvLnRpbmsuQWVzR2NtS2V5EhIaEHaTXDKrtdvME7eExo25gFkYARABGIauoYQHIAE='\n",
      "b'\\x08\\x86\\xae\\xa1\\x84\\x07\\x12T\\nH\\n0type.googleapis.com/google.crypto.tink.AesGcmKey\\x12\\x12\\x1a\\x10v\\x93\\\\2\\xab\\xb5\\xdb\\xcc\\x13\\xb7\\x84\\xc6\\x8d\\xb9\\x80Y\\x18\\x01\\x10\\x01\\x18\\x86\\xae\\xa1\\x84\\x07 \\x01'\n"
     ]
    }
   ],
   "source": [
    "  # Initialise Tink\n",
    "\n",
    "aead.register()\n",
    "key_template = aead.aead_key_templates.AES128_GCM\n",
    "keyset_handle = tink.KeysetHandle.generate_new(key_template)\n",
    "\n",
    "key_file_path = 'test1.json'\n",
    "with open(key_file_path, 'wt') as keyset_file:\n",
    "    cleartext_keyset_handle.write(\n",
    "    tink.JsonKeysetWriter(keyset_file), keyset_handle)\n",
    "    \n",
    "out = io.BytesIO()\n",
    "writer = tink.BinaryKeysetWriter(out)\n",
    "cleartext_keyset_handle.write(writer, keyset_handle)\n",
    "out.seek(0)\n",
    "\n",
    "key_bin = out.read()\n",
    "key_bin_encode = base64.b64encode(key_bin)\n",
    "key_bin_decode = base64.b64decode(key_bin_encode)\n",
    "\n",
    "print(key_bin)\n",
    "print(key_bin_encode)\n",
    "print(key_bin_decode)\n"
   ]
  },
  {
   "cell_type": "code",
   "execution_count": 332,
   "id": "clean-gasoline",
   "metadata": {},
   "outputs": [
    {
     "name": "stdout",
     "output_type": "stream",
     "text": [
      "b'COrYutICEmQKWAowdHlwZS5nb29nbGVhcGlzLmNvbS9nb29nbGUuY3J5cHRvLnRpbmsuQWVzR2NtS2V5EiIaIAz8v52Nu3L9D7fB3Glzhtlc9Bn6bVz58fDIAAWQswfXGAEQARjq2LrSAiAB'\n",
      "b'\\x01*N\\xacj\\x83#\\xbb(+\\x83\\x94\\x0f\\x19\\x94\\xfc\\xe1X\\xc4\\xe7\\xc1\\xe2\\xda\\x16\\xb4\\x98W0\\xdd@<0*7`\\xbf\\xd7\\xd4'\n",
      "b'ASpOrGqDI7soK4OUDxmU/OFYxOfB4toWtJhXMN1APDAqN2C/19Q='\n",
      "b'\\x01*N\\xacj\\x83#\\xbb(+\\x83\\x94\\x0f\\x19\\x94\\xfc\\xe1X\\xc4\\xe7\\xc1\\xe2\\xda\\x16\\xb4\\x98W0\\xdd@<0*7`\\xbf\\xd7\\xd4'\n",
      "b'Rohan'\n"
     ]
    },
    {
     "ename": "TinkError",
     "evalue": "Decryption failed.",
     "output_type": "error",
     "traceback": [
      "\u001b[0;31m---------------------------------------------------------------------------\u001b[0m",
      "\u001b[0;31mTinkError\u001b[0m                                 Traceback (most recent call last)",
      "\u001b[0;32m<ipython-input-332-435207ca7570>\u001b[0m in \u001b[0;36m<module>\u001b[0;34m\u001b[0m\n\u001b[1;32m     39\u001b[0m \u001b[0mprint\u001b[0m\u001b[0;34m(\u001b[0m\u001b[0mcleartext\u001b[0m\u001b[0;34m)\u001b[0m\u001b[0;34m\u001b[0m\u001b[0;34m\u001b[0m\u001b[0m\n\u001b[1;32m     40\u001b[0m \u001b[0;34m\u001b[0m\u001b[0m\n\u001b[0;32m---> 41\u001b[0;31m \u001b[0mcleartext1\u001b[0m \u001b[0;34m=\u001b[0m \u001b[0maead_primitive\u001b[0m\u001b[0;34m.\u001b[0m\u001b[0mdecrypt\u001b[0m\u001b[0;34m(\u001b[0m\u001b[0mbase64\u001b[0m\u001b[0;34m.\u001b[0m\u001b[0mb64decode\u001b[0m\u001b[0;34m(\u001b[0m\u001b[0;34m'AS/SnuJTIztGQqyDi2L/RB/bgueSNQT4gBcIlFPuOK44IBZQvzg='\u001b[0m\u001b[0;34m)\u001b[0m\u001b[0;34m,\u001b[0m \u001b[0massociated_data\u001b[0m\u001b[0;34m)\u001b[0m\u001b[0;34m\u001b[0m\u001b[0;34m\u001b[0m\u001b[0m\n\u001b[0m\u001b[1;32m     42\u001b[0m \u001b[0;34m\u001b[0m\u001b[0m\n\u001b[1;32m     43\u001b[0m \u001b[0mprint\u001b[0m\u001b[0;34m(\u001b[0m\u001b[0mcleartext1\u001b[0m\u001b[0;34m)\u001b[0m\u001b[0;34m\u001b[0m\u001b[0;34m\u001b[0m\u001b[0m\n",
      "\u001b[0;32m/opt/conda/lib/python3.7/site-packages/tink/aead/_aead_wrapper.py\u001b[0m in \u001b[0;36mdecrypt\u001b[0;34m(self, ciphertext, associated_data)\u001b[0m\n\u001b[1;32m     56\u001b[0m         \u001b[0;32mpass\u001b[0m\u001b[0;34m\u001b[0m\u001b[0;34m\u001b[0m\u001b[0m\n\u001b[1;32m     57\u001b[0m     \u001b[0;31m# nothing works.\u001b[0m\u001b[0;34m\u001b[0m\u001b[0;34m\u001b[0m\u001b[0;34m\u001b[0m\u001b[0m\n\u001b[0;32m---> 58\u001b[0;31m     \u001b[0;32mraise\u001b[0m \u001b[0mcore\u001b[0m\u001b[0;34m.\u001b[0m\u001b[0mTinkError\u001b[0m\u001b[0;34m(\u001b[0m\u001b[0;34m'Decryption failed.'\u001b[0m\u001b[0;34m)\u001b[0m\u001b[0;34m\u001b[0m\u001b[0;34m\u001b[0m\u001b[0m\n\u001b[0m\u001b[1;32m     59\u001b[0m \u001b[0;34m\u001b[0m\u001b[0m\n\u001b[1;32m     60\u001b[0m \u001b[0;34m\u001b[0m\u001b[0m\n",
      "\u001b[0;31mTinkError\u001b[0m: Decryption failed."
     ]
    }
   ],
   "source": [
    "import io\n",
    "import base64\n",
    "import json\n",
    "\n",
    "import tink\n",
    "from tink import aead\n",
    "from tink import cleartext_keyset_handle\n",
    "\n",
    "aead.register()\n",
    "\n",
    "\n",
    "i_table_kek= 'gcp-rrk-001.sandbox.t_crypto_kek'\n",
    "i_table = 't_pci_data_set2'\n",
    "km_df = get_table_kek(i_table, i_table_kek)\n",
    "kek_df = km_df['kek']\n",
    "kek = kek_df.values[0]\n",
    "\n",
    "plaintext = b'Rohan'\n",
    "associated_data = b'Ramnarine'\n",
    "print(base64.b64encode(kek))\n",
    "\n",
    "kh_kek = cleartext_keyset_handle.read(tink.BinaryKeysetReader(kek))\n",
    "\n",
    "# 2. Get the primitive.\n",
    "aead_primitive = kh_kek.primitive(aead.Aead)\n",
    "\n",
    "ciphertext = aead_primitive.encrypt(plaintext, associated_data)\n",
    "\n",
    "print(ciphertext)\n",
    "\n",
    "temp = base64.b64encode(ciphertext)\n",
    "\n",
    "print(temp)\n",
    "\n",
    "print(base64.b64decode(temp))\n",
    "\n",
    "cleartext = aead_primitive.decrypt(base64.b64decode(temp), associated_data)\n",
    "\n",
    "print(cleartext)\n",
    "\n",
    "cleartext1 = aead_primitive.decrypt(base64.b64decode('AS/SnuJTIztGQqyDi2L/RB/bgueSNQT4gBcIlFPuOK44IBZQvzg='), associated_data)\n",
    "\n",
    "print(cleartext1)"
   ]
  },
  {
   "cell_type": "code",
   "execution_count": 263,
   "id": "close-tractor",
   "metadata": {},
   "outputs": [
    {
     "name": "stdout",
     "output_type": "stream",
     "text": [
      "insert into `gcp-rrk-001.sandbox.t_crypto_kek` (table_id, table_nm, kek) values (20210330211507, 't_pci_data_set5', FROM_BASE64('CM6nwqABEmQKWAowdHlwZS5nb29nbGVhcGlzLmNvbS9nb29nbGUuY3J5cHRvLnRpbmsuQWVzR2NtS2V5EiIaICmJ4N7vYLY0/UuHChDfuR35LqmeUoevW4PpIQlMwuhTGAEQARjOp8KgASAB'))\n"
     ]
    }
   ],
   "source": [
    "import google.cloud.bigquery.dbapi as bq\n",
    "\n",
    "from datetime import datetime\n",
    "dttm = datetime.now()\n",
    "i_table_kek= 'gcp-rrk-001.sandbox.t_crypto_kek'\n",
    "i_table_nm = 't_pci_data_set5'\n",
    "\n",
    "rec_id = dttm.strftime(\"%Y%m%d%H%M%S\")\n",
    "kek_str = str(create_new_kek(), 'utf-8')\n",
    "\n",
    "ins_query = 'insert into `' + i_table_kek + '` (table_id, table_nm, kek) values '\n",
    "ins_query = ins_query + '(' + rec_id + ', \\'' + i_table_nm + '\\', FROM_BASE64(\\'' + kek_str + '\\'))'\n",
    "\n",
    "print (ins_query)\n",
    "\n",
    "con = bq.connect()\n",
    "cursor = con.cursor()\n",
    "cursor.execute(ins_query)\n",
    "con.commit()\n",
    "con.close()\n"
   ]
  },
  {
   "cell_type": "code",
   "execution_count": null,
   "id": "mediterranean-tackle",
   "metadata": {},
   "outputs": [],
   "source": [
    "from datetime import datetime\n",
    "import time\n",
    "dttm = datetime.now()\n",
    "timestampStr = dttm.strftime(\"%Y%m%d%H%M%S\")\n",
    "print(timestampStr)"
   ]
  },
  {
   "cell_type": "code",
   "execution_count": 383,
   "id": "instrumental-frederick",
   "metadata": {},
   "outputs": [
    {
     "name": "stdout",
     "output_type": "stream",
     "text": [
      "wrapped dek b'AXbOTa8IkN90OO3SkG3qNX8GyJH+aaEqbVAdAw0AE33RgYx8LfAemWhCUeEU62G1B3ZuTyuciFnJCK/fmuo16CUhmHsWLopy7zdZV0fjVAT/X0c1uwKR2I4Agfy04ftiUEhcMnwob4GZpIKIIMtriN+8ssCdPgo4HzLt64rrg0eU0hZiyhU5NvVLWFR/o5L1nkhnseTACYS9u8H/zibBJMdn35kvKHvj366CsKzFSKEn'\n",
      "clear dek b'Q042V2hORUNFbVFLV0Fvd2RIbHdaUzVuYjI5bmJHVmhjR2x6TG1OdmJTOW5iMjluYkdVdVkzSjVjSFJ2TG5ScGJtc3VRV1Z6UjJOdFMyVjVFaUlhSUZjSnJhRllWc1FYQmpZRmdyMndERDZMV056SDJPS01LcEIyUmZnQ3Z4TUFHQUVRQVJqZWxvVFJBaUFC'\n",
      "                                         wrapped_dek         table_nm\n",
      "0  b\"\\x01v\\xceM\\xaf\\x08\\x90\\xdft8\\xed\\xd2\\x90m\\xe...  t_pci_data_set3\n",
      "                                                 kek         table_nm\n",
      "0  b'\\x08\\xde\\x96\\x84\\xd1\\x02\\x12d\\nX\\n0type.goog...  t_pci_data_set3\n",
      "                                                 kek         table_nm\n",
      "0  b'\\x08\\xaf\\x9b\\xb9\\xb6\\x07\\x12d\\nX\\n0type.goog...  t_pci_data_set3\n"
     ]
    }
   ],
   "source": [
    "\n",
    "from google.cloud import bigquery\n",
    "import pandas\n",
    "\n",
    "i_table_kek= 'gcp-rrk-001.sandbox.t_crypto_kek'\n",
    "i_table_dek= 'gcp-rrk-001.sandbox.t_crypto_dek'\n",
    "i_table = 't_pci_data_set3'\n",
    "\n",
    "kek_km_df = get_table_kek(i_table, i_table_kek)\n",
    "\n",
    "client = bigquery.Client(location=\"US\")    \n",
    "sel_query = 'select wrapped_dek, table_nm from `' + i_table_dek + '`'\n",
    "sel_query = sel_query + ' where table_nm = \\'' + i_table + '\\''\n",
    "query_job = client.query(sel_query)  # API request - starts the query\n",
    "\n",
    "dek_km_df = query_job.to_dataframe()\n",
    "dek_df = dek_km_df['wrapped_dek']\n",
    "wrapped_dek = dek_df.values[0]\n",
    "clear_dek = decrypt_cypher(kek_km_df, base64.b64encode(wrapped_dek))\n",
    "\n",
    "dek_km_df.rename(columns = {'wrapped_dek':'kek'}, inplace = True)\n",
    "dek_km_df.at[0,'kek'] = base64.b64decode(clear_dek)\n",
    "return dek_km_df\n",
    "\n",
    "\n"
   ]
  },
  {
   "cell_type": "code",
   "execution_count": null,
   "id": "aware-migration",
   "metadata": {},
   "outputs": [],
   "source": [
    "print(base64.b64decode(kek_str.encode('utf-8')))"
   ]
  },
  {
   "cell_type": "code",
   "execution_count": null,
   "id": "written-austin",
   "metadata": {},
   "outputs": [],
   "source": [
    "kek_df = df['kek']"
   ]
  },
  {
   "cell_type": "code",
   "execution_count": null,
   "id": "stylish-nebraska",
   "metadata": {},
   "outputs": [],
   "source": [
    "print(kek_df.values[0])"
   ]
  },
  {
   "cell_type": "code",
   "execution_count": 336,
   "id": "piano-tamil",
   "metadata": {},
   "outputs": [
    {
     "name": "stdout",
     "output_type": "stream",
     "text": [
      "20210331000504\n"
     ]
    }
   ],
   "source": [
    "    from datetime import datetime\n",
    "\n",
    "    dttm = datetime.now()\n",
    "    rec_id = dttm.strftime(\"%Y%m%d%H%M%S\")\n",
    "    print(rec_id)"
   ]
  },
  {
   "cell_type": "code",
   "execution_count": 342,
   "id": "wooden-canadian",
   "metadata": {},
   "outputs": [
    {
     "data": {
      "text/html": [
       "<div>\n",
       "<style scoped>\n",
       "    .dataframe tbody tr th:only-of-type {\n",
       "        vertical-align: middle;\n",
       "    }\n",
       "\n",
       "    .dataframe tbody tr th {\n",
       "        vertical-align: top;\n",
       "    }\n",
       "\n",
       "    .dataframe thead th {\n",
       "        text-align: right;\n",
       "    }\n",
       "</style>\n",
       "<table border=\"1\" class=\"dataframe\">\n",
       "  <thead>\n",
       "    <tr style=\"text-align: right;\">\n",
       "      <th></th>\n",
       "      <th>pi</th>\n",
       "      <th>e</th>\n",
       "      <th>phi</th>\n",
       "    </tr>\n",
       "  </thead>\n",
       "  <tbody>\n",
       "    <tr>\n",
       "      <th>0</th>\n",
       "      <td>3.142</td>\n",
       "      <td>2.718</td>\n",
       "      <td>1.618</td>\n",
       "    </tr>\n",
       "  </tbody>\n",
       "</table>\n",
       "</div>"
      ],
      "text/plain": [
       "      pi      e    phi\n",
       "0  3.142  2.718  1.618"
      ]
     },
     "execution_count": 342,
     "metadata": {},
     "output_type": "execute_result"
    }
   ],
   "source": [
    "import pandas\n",
    "\n",
    "pi  = 3.142\n",
    "e   = 2.718\n",
    "phi = 1.618\n",
    "\n",
    "#df = pandas.DataFrame([[pi,e,phi]],columns=['pi','e','phi'])\n",
    "#df\n",
    "\n",
    "df = pandas.DataFrame([{'pi':pi, 'e':e, 'phi':phi}])\n",
    "df"
   ]
  },
  {
   "cell_type": "code",
   "execution_count": null,
   "id": "universal-sigma",
   "metadata": {},
   "outputs": [],
   "source": [
    "SELECT tgt, SAFE_CONVERT_BYTES_TO_STRING(AEAD.DECRYPT_BYTES(kek.kek, FROM_BASE64(tgt.wrapped_ssn), CAST(kek.table_nm AS BYTES))) clear_ssn\n",
    "FROM `gcp-rrk-001.sandbox.t_crypto_kek` kek\n",
    "cross join `gcp-rrk-001.sandbox.t_sample_customer` tgt\n",
    "where kek.table_nm = 't_pci_data_set2';"
   ]
  },
  {
   "cell_type": "code",
   "execution_count": 370,
   "id": "respective-think",
   "metadata": {},
   "outputs": [],
   "source": [
    "\n",
    "    from google.cloud import bigquery\n",
    "    import pandas\n",
    "    \n",
    "    i_table_kek= 'gcp-rrk-001.sandbox.t_crypto_kek'\n",
    "    i_table_dek= 'gcp-rrk-001.sandbox.t_crypto_dek'\n",
    "    i_table = 't_pci_data_set4'\n",
    "    \n",
    "    kek_km_df = get_table_kek(i_table, i_table_kek)\n",
    "    clear_dek = create_new_kek()\n",
    "    clear_dek_str = str(clear_dek, 'utf-8')\n",
    "    wrapped_dek = encrypt_text(kek_km_df, clear_dek_str)\n",
    "    \n",
    "    client = bigquery.Client(location=\"US\")\n",
    "    \n",
    "    sel_query = 'select table_id from `' + i_table_kek + '`'\n",
    "    sel_query = sel_query + ' where table_nm = \\'' + i_table + '\\''\n",
    "    query_job = client.query(\n",
    "    sel_query)  # API request - starts the query\n",
    "    df = query_job.to_dataframe()\n",
    "    table_id_df = df['table_id']\n",
    "    table_id = table_id_df.values[0]\n",
    "    \n",
    "    wrapped_dek_str = str(wrapped_dek, 'utf-8')\n",
    "    \n",
    "\n",
    "    #ins_query = 'insert into `' + i_table_dek + '` (table_id, table_nm, wrapped_dek, clear_dek) values '\n",
    "    #ins_query = ins_query + '(' + str(table_id) + ', \\'' + i_table + '\\', FROM_BASE64(\\'' + wrapped_dek_str + '\\'), FROM_BASE64(\\'' + clear_dek_str + '\\'))'\n",
    "\n",
    "    ins_query = 'insert into `' + i_table_dek + '` (table_id, table_nm, wrapped_dek) values '\n",
    "    ins_query = ins_query + '(' + str(table_id) + ', \\'' + i_table + '\\', FROM_BASE64(\\'' + wrapped_dek_str + '\\'))'\n",
    "    \n",
    "    con = bq.connect()\n",
    "    cursor = con.cursor()\n",
    "    cursor.execute(ins_query)\n",
    "    con.commit()\n",
    "    con.close()\n",
    "\n",
    "    "
   ]
  },
  {
   "cell_type": "code",
   "execution_count": null,
   "id": "iraqi-tract",
   "metadata": {},
   "outputs": [],
   "source": []
  }
 ],
 "metadata": {
  "environment": {
   "name": "common-cpu.mnightly-2021-02-02-debian-10-test",
   "type": "gcloud",
   "uri": "gcr.io/deeplearning-platform-release/base-cpu:mnightly-2021-02-02-debian-10-test"
  },
  "kernelspec": {
   "display_name": "Python 3",
   "language": "python",
   "name": "python3"
  },
  "language_info": {
   "codemirror_mode": {
    "name": "ipython",
    "version": 3
   },
   "file_extension": ".py",
   "mimetype": "text/x-python",
   "name": "python",
   "nbconvert_exporter": "python",
   "pygments_lexer": "ipython3",
   "version": "3.7.9"
  }
 },
 "nbformat": 4,
 "nbformat_minor": 5
}
